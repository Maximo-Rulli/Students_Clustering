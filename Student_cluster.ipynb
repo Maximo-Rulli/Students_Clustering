{
  "cells": [
    {
      "cell_type": "markdown",
      "metadata": {
        "id": "rax0qMlFnv3p"
      },
      "source": [
        "## Make essential imports"
      ]
    },
    {
      "cell_type": "code",
      "execution_count": 1,
      "metadata": {
        "id": "r7-SYoqReRfz"
      },
      "outputs": [],
      "source": [
        "import numpy as np\n",
        "import matplotlib.pyplot as plt\n",
        "import pandas as pd"
      ]
    },
    {
      "cell_type": "markdown",
      "metadata": {
        "id": "WypjluhIgc4C"
      },
      "source": [
        "## Creation of the synthetic dataset"
      ]
    },
    {
      "cell_type": "markdown",
      "metadata": {
        "id": "eKWwvDHUlrN7"
      },
      "source": [
        "The dataset consists of 150 students which obtained 2 marks on the 2 exams taken. The task is to segregate students into 2 levels: Advanced and Basic. In this way the teacher would be able to focus in each group in a more accurate way."
      ]
    },
    {
      "cell_type": "code",
      "execution_count": 2,
      "metadata": {
        "id": "OXZKBa76cXoS"
      },
      "outputs": [],
      "source": [
        "STUDENTS = 150"
      ]
    },
    {
      "cell_type": "code",
      "execution_count": 3,
      "metadata": {
        "id": "2ohM14pTcqJ7"
      },
      "outputs": [],
      "source": [
        "dis1 = np.random.randn(STUDENTS)*2\n",
        "dis2 = np.random.randn(STUDENTS)*2\n",
        "X1 = np.clip(np.linspace(0, 10, STUDENTS)+dis1, 0, 10)\n",
        "X2 = np.clip(np.linspace(0, 10, STUDENTS)+dis2, 0, 10)"
      ]
    },
    {
      "cell_type": "code",
      "execution_count": 4,
      "metadata": {
        "colab": {
          "base_uri": "https://localhost:8080/",
          "height": 430
        },
        "id": "o3BOsImtepzb",
        "outputId": "718cf3fc-4794-46c5-959c-a8880609cd8d"
      },
      "outputs": [
        {
          "data": {
            "image/png": "[encoded data removed]",
            "text/plain": [
              "<Figure size 640x480 with 1 Axes>"
            ]
          },
          "metadata": {},
          "output_type": "display_data"
        }
      ],
      "source": [
        "plt.scatter(X1, X2)\n",
        "plt.show()"
      ]
    },
    {
      "cell_type": "code",
      "execution_count": 5,
      "metadata": {
        "colab": {
          "base_uri": "https://localhost:8080/",
          "height": 206
        },
        "id": "fKtCqNFbgMnN",
        "outputId": "4301fc3a-32c9-417a-cc5d-0f6ddb5cb22b"
      },
      "outputs": [
        {
          "data": {
            "text/html": [
              "<div>\n",
              "<style scoped>\n",
              "    .dataframe tbody tr th:only-of-type {\n",
              "        vertical-align: middle;\n",
              "    }\n",
              "\n",
              "    .dataframe tbody tr th {\n",
              "        vertical-align: top;\n",
              "    }\n",
              "\n",
              "    .dataframe thead th {\n",
              "        text-align: right;\n",
              "    }\n",
              "</style>\n",
              "<table border=\"1\" class=\"dataframe\">\n",
              "  <thead>\n",
              "    <tr style=\"text-align: right;\">\n",
              "      <th></th>\n",
              "      <th>Exam1</th>\n",
              "      <th>Exam2</th>\n",
              "    </tr>\n",
              "  </thead>\n",
              "  <tbody>\n",
              "    <tr>\n",
              "      <th>0</th>\n",
              "      <td>1.883425</td>\n",
              "      <td>1.644761</td>\n",
              "    </tr>\n",
              "    <tr>\n",
              "      <th>1</th>\n",
              "      <td>1.297841</td>\n",
              "      <td>1.698628</td>\n",
              "    </tr>\n",
              "    <tr>\n",
              "      <th>2</th>\n",
              "      <td>0.000000</td>\n",
              "      <td>0.246595</td>\n",
              "    </tr>\n",
              "    <tr>\n",
              "      <th>3</th>\n",
              "      <td>0.000000</td>\n",
              "      <td>0.000000</td>\n",
              "    </tr>\n",
              "    <tr>\n",
              "      <th>4</th>\n",
              "      <td>0.000000</td>\n",
              "      <td>1.085737</td>\n",
              "    </tr>\n",
              "  </tbody>\n",
              "</table>\n",
              "</div>"
            ],
            "text/plain": [
              "      Exam1     Exam2\n",
              "0  1.883425  1.644761\n",
              "1  1.297841  1.698628\n",
              "2  0.000000  0.246595\n",
              "3  0.000000  0.000000\n",
              "4  0.000000  1.085737"
            ]
          },
          "execution_count": 5,
          "metadata": {},
          "output_type": "execute_result"
        }
      ],
      "source": [
        "df = pd.DataFrame({'Exam1':X1, 'Exam2':X2})\n",
        "df.head(5)"
      ]
    },
    {
      "cell_type": "markdown",
      "metadata": {
        "id": "SO7us3WsiYwd"
      },
      "source": [
        "## Run k-means algorithm"
      ]
    },
    {
      "cell_type": "code",
      "execution_count": 6,
      "metadata": {
        "id": "1zD9E-fFciLl"
      },
      "outputs": [],
      "source": [
        "def init_centers():\n",
        "  return {'mu0':np.array([np.random.randint(0, 10), np.random.randint(0, 10)]), 'mu1': np.array([np.random.randint(0, 10), np.random.randint(0, 10)])}"
      ]
    },
    {
      "cell_type": "code",
      "execution_count": 7,
      "metadata": {
        "id": "1PhHf9l4oRFS"
      },
      "outputs": [],
      "source": [
        "#This function sets the cluster centers for each student\n",
        "def set_mu(X, mu, c):\n",
        "  length = len(c)\n",
        "  #For each student we assign a center, that'll be the closest one\n",
        "  for i in range(length):\n",
        "    c[i] = 'mu'+str(np.argmin(np.linalg.norm(X[i]-[i for i in mu.values()], axis=1)))\n",
        "  return c"
      ]
    },
    {
      "cell_type": "code",
      "execution_count": 8,
      "metadata": {
        "id": "GMiBt6fwOzCK"
      },
      "outputs": [],
      "source": [
        "#This other function moves the centers towards the mean\n",
        "def move_mu(X, mu, c):\n",
        "    #We define a mask to compute the avareage of the students marks and move the cluster center towards the mean\n",
        "    for i in mu.keys():\n",
        "        mask = np.array([j == i for j in c])\n",
        "        mask = mask.reshape(150, 1)\n",
        "        mean = np.sum(X*mask, axis=0)/np.sum(mask)\n",
        "        mu[i] = mean\n",
        "    return mu"
      ]
    },
    {
      "cell_type": "code",
      "execution_count": 9,
      "metadata": {
        "id": "BixWmjPXg6q4"
      },
      "outputs": [],
      "source": [
        "#We initialize our variable c (centers) to be an empty list of strings\n",
        "c = ['' for i in range(STUDENTS)]"
      ]
    },
    {
      "cell_type": "code",
      "execution_count": 10,
      "metadata": {
        "id": "mNCEdLtsc3mD"
      },
      "outputs": [],
      "source": [
        "#We initialize our clustering centers\n",
        "mu = init_centers()"
      ]
    },
    {
      "cell_type": "markdown",
      "metadata": {
        "id": "SMivdzpNkrdT"
      },
      "source": [
        "Visualize initial data"
      ]
    },
    {
      "cell_type": "code",
      "execution_count": 11,
      "metadata": {
        "colab": {
          "base_uri": "https://localhost:8080/",
          "height": 430
        },
        "id": "sEmVYZK4mXSs",
        "outputId": "882ce480-1005-4acd-f498-594bdfc7fdbd"
      },
      "outputs": [
        {
          "data": {
            "image/png": "[encoded data removed]",
            "text/plain": [
              "<Figure size 640x480 with 1 Axes>"
            ]
          },
          "metadata": {},
          "output_type": "display_data"
        }
      ],
      "source": [
        "plt.scatter(mu['mu0'][0], mu['mu0'][1], color='red', marker='x')\n",
        "plt.scatter(mu['mu1'][0], mu['mu1'][1], color='green', marker='x')\n",
        "plt.scatter(X1, X2, color='blue')\n",
        "plt.show()"
      ]
    },
    {
      "cell_type": "code",
      "execution_count": 12,
      "metadata": {
        "id": "SvtoXHH0mkSZ"
      },
      "outputs": [],
      "source": [
        "X = df.to_numpy()\n",
        "c_new, c_act = c, []"
      ]
    },
    {
      "cell_type": "markdown",
      "metadata": {
        "id": "yezCpIhEkwhs"
      },
      "source": [
        "We iterate until the students' centers are no longer updated, what means that the clusters are already at the best spot"
      ]
    },
    {
      "cell_type": "code",
      "execution_count": 13,
      "metadata": {
        "colab": {
          "base_uri": "https://localhost:8080/"
        },
        "id": "gIsT1ZYmeMwZ",
        "outputId": "c29c15c6-fd80-4eff-e11d-e3d6b1421a20"
      },
      "outputs": [
        {
          "name": "stdout",
          "output_type": "stream",
          "text": [
            "Iteration done\n",
            "Iteration done\n",
            "Iteration done\n",
            "Iteration done\n",
            "Iteration done\n",
            "Iteration done\n",
            "Iteration done\n"
          ]
        }
      ],
      "source": [
        "while(not(np.array_equal(c_new, c_act))):\n",
        "    c_act = np.copy(c_new)\n",
        "    c_new = np.copy(set_mu(X, mu, c_new))\n",
        "    mu = move_mu(X, mu, c_new)\n",
        "    print(\"Iteration done\")\n",
        "c = np.copy(c_new)"
      ]
    },
    {
      "cell_type": "markdown",
      "metadata": {
        "id": "vX0ltA3xk-h1"
      },
      "source": [
        "We plot the final results to visualize them"
      ]
    },
    {
      "cell_type": "code",
      "execution_count": 14,
      "metadata": {
        "colab": {
          "base_uri": "https://localhost:8080/",
          "height": 430
        },
        "id": "tC9esB9DY8Zx",
        "outputId": "69a92545-6708-46ae-a40b-fd4b5deb602f"
      },
      "outputs": [
        {
          "data": {
            "image/png": "[encoded data removed]",
            "text/plain": [
              "<Figure size 640x480 with 1 Axes>"
            ]
          },
          "metadata": {},
          "output_type": "display_data"
        }
      ],
      "source": [
        "plt.scatter(mu['mu0'][0], mu['mu0'][1], color='red', marker='x')\n",
        "plt.scatter(mu['mu1'][0], mu['mu1'][1], color='green', marker='x')\n",
        "\n",
        "mask1 = np.array([j == 'mu0' for j in c]).reshape(150,)\n",
        "mask2 = np.array([j == 'mu1' for j in c]).reshape(150,)\n",
        "plt.scatter(X1*mask1, X2*mask1, color='red', marker='o', label='Level A')\n",
        "plt.scatter(X1*mask2, X2*mask2, color='green', marker='v', label='Level B')\n",
        "plt.legend()\n",
        "plt.show()"
      ]
    },
    {
      "cell_type": "markdown",
      "metadata": {
        "id": "kinA7iFRnL82"
      },
      "source": [
        "## Save dataset to work later"
      ]
    },
    {
      "cell_type": "code",
      "execution_count": 15,
      "metadata": {
        "id": "Dvg71fbQljOi"
      },
      "outputs": [],
      "source": [
        "df.to_csv('students.csv')"
      ]
    }
  ],
  "metadata": {
    "colab": {
      "provenance": []
    },
    "kernelspec": {
      "display_name": "Python 3",
      "name": "python3"
    },
    "language_info": {
      "codemirror_mode": {
        "name": "ipython",
        "version": 3
      },
      "file_extension": ".py",
      "mimetype": "text/x-python",
      "name": "python",
      "nbconvert_exporter": "python",
      "pygments_lexer": "ipython3",
      "version": "3.10.2"
    }
  },
  "nbformat": 4,
  "nbformat_minor": 0
}
